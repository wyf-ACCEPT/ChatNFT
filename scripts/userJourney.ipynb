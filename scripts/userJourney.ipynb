{
 "cells": [
  {
   "cell_type": "code",
   "execution_count": 7,
   "metadata": {},
   "outputs": [
    {
     "data": {
      "text/plain": [
       "4821376"
      ]
     },
     "execution_count": 7,
     "metadata": {},
     "output_type": "execute_result"
    }
   ],
   "source": [
    "from web3 import Web3, HTTPProvider\n",
    "from eth_account.messages import encode_defunct\n",
    "import eth_abi\n",
    "\n",
    "w3 = Web3(HTTPProvider(\"https://opbnb-mainnet-rpc.bnbchain.org\"))\n",
    "pk = open('privateKey.txt').read()\n",
    "\n",
    "w3.eth.block_number"
   ]
  },
  {
   "cell_type": "code",
   "execution_count": null,
   "metadata": {},
   "outputs": [],
   "source": [
    "import web3\n",
    "from datetime import datetime\n",
    "\n",
    "msg = \"hello\"\n",
    "account = \"0x5d8D81Cd152C4C7C7f5476dD740e1683685e0f5c\"\n",
    "private_key = \"0xbababdff08864d918a6ec1e6957247b2e2b77a5796d99af24e02165ee63be4aa\"\n",
    "\n",
    "\n",
    "def sign_message():\n",
    "    # sign message\n",
    "    message = encode_defunct(text=msg)\n",
    "    signed_message = w3.eth.account.sign_message(message, private_key=private_key)\n",
    "    print(signed_message)\n",
    "\n",
    "    # recover message\n",
    "    recovered_message = w3.eth.account.recover_message(message, signature=signed_message.signature)\n",
    "    print(recovered_message)\n",
    "    print(account == recovered_message)\n",
    "\n",
    "\n",
    "def recover_message():\n",
    "    pass\n",
    "\n",
    "\n",
    "def gen_signature():\n",
    "    user_address = account\n",
    "    amount = 1 * (10 ** 18)\n",
    "    sign_time = 1695688550\n",
    "    print(f'user={user_address}, amount={amount}, time={sign_time}')\n",
    "    hash_val= eth_abi.encode([\"address\", \"uint256\", \"uint256\"], [user_address, amount, sign_time])\n",
    "    print('rawMessage=', hash_val)\n",
    "    bytes_hex_val = bytearray(hash_val)\n",
    "    signature = w3.eth.account.sign_message(encode_defunct(bytes_hex_val), private_key=private_key)\n",
    "    print('Signature: ', signature.signature.hex())\n",
    "\n",
    "\n",
    "def main():\n",
    "    # sign_message()\n",
    "    gen_signature()\n",
    "\n",
    "\n",
    "main()"
   ]
  }
 ],
 "metadata": {
  "kernelspec": {
   "display_name": "base",
   "language": "python",
   "name": "python3"
  },
  "language_info": {
   "codemirror_mode": {
    "name": "ipython",
    "version": 3
   },
   "file_extension": ".py",
   "mimetype": "text/x-python",
   "name": "python",
   "nbconvert_exporter": "python",
   "pygments_lexer": "ipython3",
   "version": "3.9.7"
  },
  "orig_nbformat": 4
 },
 "nbformat": 4,
 "nbformat_minor": 2
}
