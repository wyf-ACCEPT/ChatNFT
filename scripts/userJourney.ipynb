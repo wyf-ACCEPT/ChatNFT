{
 "cells": [
  {
   "cell_type": "markdown",
   "metadata": {},
   "source": [
    "## Prepare"
   ]
  },
  {
   "cell_type": "code",
   "execution_count": 6,
   "metadata": {},
   "outputs": [],
   "source": [
    "from web3 import Web3, HTTPProvider\n",
    "from eth_account.messages import encode_defunct\n",
    "import eth_abi, json\n",
    "from eth_account import Account\n",
    "\n",
    "w3 = Web3(HTTPProvider(\"https://opbnb-mainnet-rpc.bnbchain.org\"))\n",
    "\n",
    "ABI_PATH = '../abi/contracts'\n",
    "contracts_abi = {\n",
    "    'masterToken': json.load(open(f'{ABI_PATH}/assets/MasterToken.sol/MasterToken.json')),\n",
    "    'masterBot': json.load(open(f'{ABI_PATH}/tokenbound/MasterBotNFT.sol/MasterBotNFT.json')),\n",
    "    'functionBot': json.load(open(f'{ABI_PATH}/assets/FunctionBot.sol/FunctionBot.json')),\n",
    "    'erc6551registry': json.load(open(f'{ABI_PATH}/tokenbound/ERC6551Registry.sol/ERC6551Registry.json')),\n",
    "    'masterBotTBA': json.load(open(f'{ABI_PATH}/tokenbound/MasterBotTBA.sol/MasterBotTokenBoundAccount.json')),\n",
    "    'assets': json.load(open(f'{ABI_PATH}/assets/Assets.sol/Assets.json')),\n",
    "}\n",
    "contracts_address = {\n",
    "    'masterToken': '0x8c05A42432a971F8CD1AFbdeB70f8e732337cE69',\n",
    "    'masterBot': '0x95c3385c6560f414E3d5927398fA744B27d1F991',\n",
    "    'functionBot': '0xB5Ad35735D8d78c6812C8299CbB8fe4DeD716e82',\n",
    "    'erc6551registry': '0xfa09865A069755f144d79440f9DB1bc2f469dA5d',\n",
    "    'masterBotTBA': '0x68b04C6e349115d282F7b15dc2a319593D7a3483',\n",
    "    'assets': '0x000BF4bC5328b7364AA0F127f367ae2119A7174A',\n",
    "}\n",
    "contracts = {\n",
    "    key: w3.eth.contract(address=contracts_address[key], abi=contracts_abi[key]) for key in contracts_abi\n",
    "}"
   ]
  },
  {
   "cell_type": "code",
   "execution_count": 2,
   "metadata": {},
   "outputs": [
    {
     "name": "stdout",
     "output_type": "stream",
     "text": [
      "User address:  0x1b47a6F76a21fDee8BeCA56040A698f87aBc1511\n"
     ]
    }
   ],
   "source": [
    "# Chain ID of opBNB is 204. See https://chainlist.org/chain/204.\n",
    "CHAIN_ID = 204\n",
    "\n",
    "# The salt value for generate TBA is 0x6551...6551. See https://eips.ethereum.org/EIPS/eip-6551.\n",
    "SALT = 0x6551655165516551655165516551655165516551655165516551655165516551\n",
    "\n",
    "# Load your private key.\n",
    "user_pk = open('privateKey.txt').read()\n",
    "user_addr = Account.from_key(user_pk).address\n",
    "print(\"User address: \", user_addr)"
   ]
  },
  {
   "cell_type": "code",
   "execution_count": 3,
   "metadata": {},
   "outputs": [
    {
     "name": "stdout",
     "output_type": "stream",
     "text": [
      "Owner of MasterBot #0:  0x1b47a6F76a21fDee8BeCA56040A698f87aBc1511\n"
     ]
    }
   ],
   "source": [
    "# Ask admin to mint you a Masterbot NFT first.\n",
    "# ...\n",
    "\n",
    "# Now suppose you're the owner of Masterbot NFT #0\n",
    "token_id = 0\n",
    "print(f\"Owner of MasterBot #{token_id}: \", contracts['masterBot'].functions.ownerOf(token_id).call())"
   ]
  },
  {
   "cell_type": "markdown",
   "metadata": {},
   "source": [
    "## Register ERC6551 accounts"
   ]
  },
  {
   "cell_type": "code",
   "execution_count": 5,
   "metadata": {},
   "outputs": [
    {
     "name": "stdout",
     "output_type": "stream",
     "text": [
      "TBA address for MasterBot #0:  0x40500cD67895f740Fb6B574dF5392f066d3468dF\n"
     ]
    }
   ],
   "source": [
    "TBA_address = contracts['erc6551registry'].functions.account(\n",
    "    contracts_address['masterBotTBA'],      # TBA implementation address\n",
    "    CHAIN_ID,\n",
    "    contracts_address['masterBot'],         # MasterBot NFT address\n",
    "    token_id,\n",
    "    SALT,\n",
    ").call()\n",
    "\n",
    "print(f\"TBA address for MasterBot #{token_id}: \", TBA_address)"
   ]
  },
  {
   "cell_type": "code",
   "execution_count": 20,
   "metadata": {},
   "outputs": [
    {
     "name": "stdout",
     "output_type": "stream",
     "text": [
      "Transaction complete. Transaction hash: 0xfb91aa48a8055298c939748c710dc40793c7c1fa7d01c8ca58e1ad58b5eb94b7\n"
     ]
    }
   ],
   "source": [
    "transaction = {\n",
    "    'value': 0,\n",
    "    'gas': 100000,\n",
    "    'gasPrice': w3.to_wei('14791', 'wei'),\n",
    "    'nonce': w3.eth.get_transaction_count(user_addr),\n",
    "}\n",
    "\n",
    "contract_function = contracts['erc6551registry'].functions.createAccount(\n",
    "    contracts_address['masterBotTBA'], CHAIN_ID, contracts_address['masterBot'], token_id, SALT, b''\n",
    ")\n",
    "signed_transaction = w3.eth.account.sign_transaction(contract_function.build_transaction(transaction), user_pk)\n",
    "tx_hash = w3.eth.send_raw_transaction(signed_transaction.rawTransaction)\n",
    "w3.eth.wait_for_transaction_receipt(tx_hash)\n",
    "print(\"Transaction complete. Transaction hash:\", tx_hash.hex())"
   ]
  },
  {
   "cell_type": "markdown",
   "metadata": {},
   "source": [
    "## Mint some assets to the TBA"
   ]
  },
  {
   "cell_type": "code",
   "execution_count": 28,
   "metadata": {},
   "outputs": [
    {
     "name": "stdout",
     "output_type": "stream",
     "text": [
      "$MTT balance of TBA address 0x40500cD67895f740Fb6B574dF5392f066d3468dF:  5000.0\n",
      "FTB balance of TBA address 0x40500cD67895f740Fb6B574dF5392f066d3468dF:  2\n",
      "Token indices for TBA:  0 1\n"
     ]
    }
   ],
   "source": [
    "# Ask admin to mint you some MasterToken ($MTT)\n",
    "# ...\n",
    "\n",
    "print(f\"$MTT balance of TBA address {TBA_address}: \",\n",
    "      contracts['masterToken'].functions.balanceOf(TBA_address).call() / 1e18)\n",
    "\n",
    "# Ask admin to mint you some FunctionBot ($FTB)\n",
    "# ...\n",
    "\n",
    "print(f\"FTB balance of TBA address {TBA_address}: \",\n",
    "      contracts['functionBot'].functions.balanceOf(TBA_address).call())\n",
    "print(\"Token indices for TBA: \",\n",
    "      contracts['functionBot'].functions.tokenOfOwnerByIndex(TBA_address, 0).call(),\n",
    "      contracts['functionBot'].functions.tokenOfOwnerByIndex(TBA_address, 1).call())"
   ]
  },
  {
   "cell_type": "markdown",
   "metadata": {},
   "source": [
    "## Approve for Asset-contract"
   ]
  },
  {
   "cell_type": "code",
   "execution_count": 49,
   "metadata": {},
   "outputs": [
    {
     "name": "stdout",
     "output_type": "stream",
     "text": [
      "Transaction complete. Transaction hash: 0x78671f8771d2b84e2df5e486f7d12697f7d3d4ee7a1ccd1c16b392c33b84d96d\n"
     ]
    }
   ],
   "source": [
    "calldata_approve = contracts['masterToken'] \\\n",
    "    .functions.approve(contracts_address['assets'], int(1000e18)) \\\n",
    "    .build_transaction(transaction)['data']\n",
    "\n",
    "contract_for_my_TBA = w3.eth.contract(address=TBA_address, abi=contracts_abi['masterBotTBA'])\n",
    "\n",
    "transaction = {\n",
    "    'value': 0,\n",
    "    'gas': 100000,\n",
    "    'gasPrice': w3.to_wei('14791', 'wei'),\n",
    "    'nonce': w3.eth.get_transaction_count(user_addr),\n",
    "}\n",
    "\n",
    "signed_transaction = w3.eth.account.sign_transaction(contract_for_my_TBA.functions.execute(\n",
    "    contracts_address['masterToken'],   # the target address\n",
    "    0,                                  # $BNB value (always 0)\n",
    "    calldata_approve,                   # calldata of approving for Asset contract\n",
    "    0,                                  # operation code (always 0)\n",
    ").build_transaction(transaction), user_pk)\n",
    "tx_hash = w3.eth.send_raw_transaction(signed_transaction.rawTransaction)\n",
    "w3.eth.wait_for_transaction_receipt(tx_hash)\n",
    "print(\"Transaction complete. Transaction hash:\", tx_hash.hex())"
   ]
  },
  {
   "cell_type": "markdown",
   "metadata": {},
   "source": [
    "## Use $MTT to interact with Asset-contract"
   ]
  },
  {
   "cell_type": "code",
   "execution_count": 55,
   "metadata": {},
   "outputs": [
    {
     "name": "stdout",
     "output_type": "stream",
     "text": [
      "Transaction complete. Transaction hash: 0x76223e895e4e30ef5bf500dc262150cd31b8e47e5f5aabde6fe090712b524155\n"
     ]
    }
   ],
   "source": [
    "calldata_buy_share = contracts['assets'] \\\n",
    "    .functions.purchase() \\\n",
    "    .build_transaction(transaction)['data']\n",
    "\n",
    "transaction = {\n",
    "    'value': 0,\n",
    "    'gas': 200000,\n",
    "    'gasPrice': w3.to_wei('14791', 'wei'),\n",
    "    'nonce': w3.eth.get_transaction_count(user_addr),\n",
    "}\n",
    "\n",
    "signed_transaction = w3.eth.account.sign_transaction(contract_for_my_TBA.functions.execute(\n",
    "    contracts_address['assets'],        # the target address\n",
    "    0,\n",
    "    calldata_buy_share,                 # calldata of purchasing a `Share Token`\n",
    "    0,\n",
    ").build_transaction(transaction), user_pk)\n",
    "tx_hash = w3.eth.send_raw_transaction(signed_transaction.rawTransaction)\n",
    "w3.eth.wait_for_transaction_receipt(tx_hash)\n",
    "print(\"Transaction complete. Transaction hash:\", tx_hash.hex())"
   ]
  },
  {
   "cell_type": "code",
   "execution_count": 58,
   "metadata": {},
   "outputs": [
    {
     "name": "stdout",
     "output_type": "stream",
     "text": [
      "$MTT balance of TBA address 0x40500cD67895f740Fb6B574dF5392f066d3468dF:  4999.0\n",
      "Share balance of TBA address 0x40500cD67895f740Fb6B574dF5392f066d3468dF:  1\n"
     ]
    }
   ],
   "source": [
    "print(f\"$MTT balance of TBA address {TBA_address}: \",\n",
    "      contracts['masterToken'].functions.balanceOf(TBA_address).call() / 1e18)\n",
    "print(f\"Share balance of TBA address {TBA_address}: \",\n",
    "      contracts['assets'].functions.balanceShareOf(TBA_address).call())"
   ]
  },
  {
   "cell_type": "code",
   "execution_count": null,
   "metadata": {},
   "outputs": [],
   "source": []
  },
  {
   "cell_type": "code",
   "execution_count": 50,
   "metadata": {},
   "outputs": [
    {
     "data": {
      "text/plain": [
       "[('CHARGE_PRICE', 'function'),\n",
       " ('ENERGY_REDUCE_FREQ', 'function'),\n",
       " ('INSTALL_PRICE', 'function'),\n",
       " ('TAX_BASE_POINT', 'function'),\n",
       " ('_claimAll', 'function'),\n",
       " ('adminBalance', 'function'),\n",
       " ('balanceMasterTokenOf', 'function'),\n",
       " ('balanceShareOf', 'function'),\n",
       " ('charge', 'function'),\n",
       " ('charge_price_integer', 'function'),\n",
       " ('decimals', 'function'),\n",
       " ('energyOf', 'function'),\n",
       " ('functionBot', 'function'),\n",
       " ('installBot', 'function'),\n",
       " ('install_price_integer', 'function'),\n",
       " ('isInstalledOn', 'function'),\n",
       " ('masterToken', 'function'),\n",
       " ('owner', 'function'),\n",
       " ('purchase', 'function'),\n",
       " ('renounceOwnership', 'function'),\n",
       " ('sell', 'function'),\n",
       " ('slotsOf', 'function'),\n",
       " ('totalSupplyShare', 'function'),\n",
       " ('transferOwnership', 'function'),\n",
       " ('uninstallBot', 'function')]"
      ]
     },
     "execution_count": 50,
     "metadata": {},
     "output_type": "execute_result"
    }
   ],
   "source": [
    "[(f['name'], f['type']) for f in contracts_abi['assets'] if f['type']=='function']"
   ]
  },
  {
   "cell_type": "code",
   "execution_count": null,
   "metadata": {},
   "outputs": [],
   "source": []
  }
 ],
 "metadata": {
  "kernelspec": {
   "display_name": "base",
   "language": "python",
   "name": "python3"
  },
  "language_info": {
   "codemirror_mode": {
    "name": "ipython",
    "version": 3
   },
   "file_extension": ".py",
   "mimetype": "text/x-python",
   "name": "python",
   "nbconvert_exporter": "python",
   "pygments_lexer": "ipython3",
   "version": "3.9.7"
  },
  "orig_nbformat": 4
 },
 "nbformat": 4,
 "nbformat_minor": 2
}
